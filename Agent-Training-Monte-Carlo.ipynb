{
 "cells": [
  {
   "cell_type": "code",
   "execution_count": 7,
   "metadata": {},
   "outputs": [],
   "source": [
    "import numpy as np\n",
    "import copy\n",
    "from gym_ur.game_of_ur import GoUrEnv\n",
    "import matplotlib.pyplot as plt\n",
    "from collections import defaultdict\n",
    "import matplotlib.cm as cm\n",
    "plt.style.use('ggplot')"
   ]
  },
  {
   "cell_type": "code",
   "execution_count": 8,
   "metadata": {},
   "outputs": [],
   "source": [
    "def eGreedyActionSelection(env, q_curr, eps, possible_actions, movable_piece_ids):\n",
    "    '''\n",
    "    Preforms epsilon greedy action selectoin based on the Q-values.\n",
    "    \n",
    "    Args:\n",
    "        env: Environment\n",
    "        q_curr: A numpy array that contains the Q-values for each action for a state.\n",
    "        eps: The probability to select a random action. Float between 0 and 1.\n",
    "        \n",
    "    Returns:\n",
    "        The selected action.\n",
    "    '''\n",
    "    if np.random.rand() < (1 - eps):\n",
    "        best_action = np.argmax(q_curr)\n",
    "        if best_action in movable_piece_ids:\n",
    "            return best_action\n",
    "        \n",
    "    return np.random.randint(0, len(possible_actions))"
   ]
  },
  {
   "cell_type": "code",
   "execution_count": 9,
   "metadata": {},
   "outputs": [],
   "source": [
    "# create environment\n",
    "env = GoUrEnv(3)"
   ]
  },
  {
   "cell_type": "code",
   "execution_count": 10,
   "metadata": {},
   "outputs": [],
   "source": [
    "def updateMCValues(Q_func, episode_transitions, gamma, alpha):\n",
    "    '''\n",
    "    Updates the Q-function according to the given episode transitions.\n",
    "    \n",
    "    Args:\n",
    "        Q_func: A dictonary mapping state -> action values.\n",
    "        episode_transitions: A list of (state, action, reward) tuples describing the episode.\n",
    "        gamma: The discount factor.\n",
    "        alpha: The stepsize.\n",
    "        \n",
    "    Returns:\n",
    "        The updated Q-function.\n",
    "    '''\n",
    "    G = 0\n",
    "    episode_transitions = episode_transitions[::-1]\n",
    "    for state, action, reward in episode_transitions:\n",
    "        G = reward + (gamma * G)\n",
    "        Q_func[state][action] += (alpha * (G - Q_func[state][action])) \n",
    "\n",
    "    return Q_func"
   ]
  },
  {
   "cell_type": "code",
   "execution_count": 11,
   "metadata": {},
   "outputs": [],
   "source": [
    "def train_mc_agent(env, num_episodes, eps=0.1, gamma=1.0, alpha=0.1):\n",
    "    player1 = 0\n",
    "    player2 = 0\n",
    "    init_q_value = 0.0\n",
    "    Q_func_1 = defaultdict(lambda: np.ones(env.action_space_n) * init_q_value)\n",
    "    Q_func_2 = defaultdict(lambda: np.ones(env.action_space_n) * init_q_value)\n",
    "    \n",
    "    episode_rewards_p1 = [0.0]\n",
    "    episode_rewards_p2 = [0.0]\n",
    "    for curr_episode in range(num_episodes):\n",
    "        episode_transitions_p1 = list()\n",
    "        episode_transitions_p2 = list()\n",
    "        state = env.reset()\n",
    "        is_done = False\n",
    "        print(curr_episode)\n",
    "        while not is_done:\n",
    "            # player 1 move\n",
    "            dice_up = env.roll()\n",
    "            possible_actions, movable_piece_ids = env.get_possible_actions(player1, dice_up)\n",
    "            if len(possible_actions) != 0:\n",
    "                action = eGreedyActionSelection(env, Q_func_1[state], eps, possible_actions, movable_piece_ids)\n",
    "                new_state, reward, is_done, _ = env.step(possible_actions[action])\n",
    "                episode_transitions_p1.append((state, action, reward))\n",
    "                state = copy.deepcopy(new_state)\n",
    "                episode_rewards_p1[-1] + reward\n",
    "                episode_rewards_p1.append(0.0)\n",
    "            else:\n",
    "                episode_rewards_p1.append(0.0)\n",
    "                \n",
    "            # player 2 move\n",
    "            dice_up = env.roll()\n",
    "            possible_actions, movable_piece_ids = env.get_possible_actions(player2, dice_up)\n",
    "            if len(possible_actions) != 0:\n",
    "                action = eGreedyActionSelection(env, Q_func_2[state], eps, possible_actions, movable_piece_ids)\n",
    "                new_state, reward, is_done, _ = env.step(possible_actions[action])\n",
    "                episode_transitions_p2.append((state, action, reward))\n",
    "                state = copy.deepcopy(new_state)\n",
    "                episode_rewards_p2[-1] + reward\n",
    "                episode_rewards_p2.append(0.0)\n",
    "            else:\n",
    "                episode_rewards_p2.append(0.0)\n",
    "            \n",
    "            # Update the Q functions\n",
    "            Q_func_1 = updateMCValues(Q_func_1, episode_transitions_p1, gamma, alpha)\n",
    "            Q_func_2 = updateMCValues(Q_func_2, episode_transitions_p2, gamma, alpha)\n",
    "            \n",
    "    return Q_func_1, Q_func_2, episode_rewards_p1, episode_rewards_p2"
   ]
  },
  {
   "cell_type": "code",
   "execution_count": null,
   "metadata": {},
   "outputs": [
    {
     "name": "stdout",
     "output_type": "stream",
     "text": [
      "0\n"
     ]
    }
   ],
   "source": [
    "q_func_1, q_func_2, episode_rewards_p1, episode_rewards_p2 = train_mc_agent(env, 3, eps=0.15)"
   ]
  },
  {
   "cell_type": "code",
   "execution_count": null,
   "metadata": {},
   "outputs": [],
   "source": []
  }
 ],
 "metadata": {
  "kernelspec": {
   "display_name": "Python 3",
   "language": "python",
   "name": "python3"
  },
  "language_info": {
   "codemirror_mode": {
    "name": "ipython",
    "version": 3
   },
   "file_extension": ".py",
   "mimetype": "text/x-python",
   "name": "python",
   "nbconvert_exporter": "python",
   "pygments_lexer": "ipython3",
   "version": "3.6.3"
  }
 },
 "nbformat": 4,
 "nbformat_minor": 2
}
