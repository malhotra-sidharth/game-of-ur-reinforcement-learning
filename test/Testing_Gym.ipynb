{
 "cells": [
  {
   "cell_type": "code",
   "execution_count": 6,
   "metadata": {},
   "outputs": [
    {
     "ename": "SyntaxError",
     "evalue": "invalid syntax (<ipython-input-6-c93a96545cf9>, line 1)",
     "output_type": "error",
     "traceback": [
      "\u001b[1;36m  File \u001b[1;32m\"<ipython-input-6-c93a96545cf9>\"\u001b[1;36m, line \u001b[1;32m1\u001b[0m\n\u001b[1;33m    from ../gym_ur.game_of_ur import GoUrEnv\u001b[0m\n\u001b[1;37m           ^\u001b[0m\n\u001b[1;31mSyntaxError\u001b[0m\u001b[1;31m:\u001b[0m invalid syntax\n"
     ]
    }
   ],
   "source": [
    "from gym_ur.game_of_ur import GoUrEnv\n",
    "import numpy as np\n",
    "import matplotlib.pyplot as plt\n",
    "from collections import defaultdict\n",
    "\n",
    "plt.style.use('ggplot')"
   ]
  },
  {
   "cell_type": "code",
   "execution_count": 2,
   "metadata": {},
   "outputs": [
    {
     "ename": "NameError",
     "evalue": "name 'GoUrEnv' is not defined",
     "output_type": "error",
     "traceback": [
      "\u001b[1;31m---------------------------------------------------------------------------\u001b[0m",
      "\u001b[1;31mNameError\u001b[0m                                 Traceback (most recent call last)",
      "\u001b[1;32m<ipython-input-2-3d71dadb536b>\u001b[0m in \u001b[0;36m<module>\u001b[1;34m()\u001b[0m\n\u001b[1;32m----> 1\u001b[1;33m \u001b[0menv\u001b[0m \u001b[1;33m=\u001b[0m \u001b[0mGoUrEnv\u001b[0m\u001b[1;33m(\u001b[0m\u001b[1;33m)\u001b[0m\u001b[1;33m\u001b[0m\u001b[0m\n\u001b[0m",
      "\u001b[1;31mNameError\u001b[0m: name 'GoUrEnv' is not defined"
     ]
    }
   ],
   "source": [
    "env = GoUrEnv()"
   ]
  },
  {
   "cell_type": "code",
   "execution_count": 3,
   "metadata": {},
   "outputs": [
    {
     "data": {
      "text/plain": [
       "[{'curr_pos': 0,\n",
       "  'double_move': False,\n",
       "  'next_pos': ('c', 2),\n",
       "  'piece_id': (1, 0),\n",
       "  'replace_opp': False},\n",
       " {'curr_pos': 0,\n",
       "  'double_move': False,\n",
       "  'next_pos': ('c', 2),\n",
       "  'piece_id': (1, 1),\n",
       "  'replace_opp': False},\n",
       " {'curr_pos': 0,\n",
       "  'double_move': False,\n",
       "  'next_pos': ('c', 2),\n",
       "  'piece_id': (1, 2),\n",
       "  'replace_opp': False},\n",
       " {'curr_pos': 0,\n",
       "  'double_move': False,\n",
       "  'next_pos': ('c', 2),\n",
       "  'piece_id': (1, 3),\n",
       "  'replace_opp': False},\n",
       " {'curr_pos': 0,\n",
       "  'double_move': False,\n",
       "  'next_pos': ('c', 2),\n",
       "  'piece_id': (1, 4),\n",
       "  'replace_opp': False},\n",
       " {'curr_pos': 0,\n",
       "  'double_move': False,\n",
       "  'next_pos': ('c', 2),\n",
       "  'piece_id': (1, 5),\n",
       "  'replace_opp': False},\n",
       " {'curr_pos': 0,\n",
       "  'double_move': False,\n",
       "  'next_pos': ('c', 2),\n",
       "  'piece_id': (1, 6),\n",
       "  'replace_opp': False}]"
      ]
     },
     "execution_count": 3,
     "metadata": {},
     "output_type": "execute_result"
    }
   ],
   "source": [
    "env.get_possible_actions(1, 3)\n"
   ]
  },
  {
   "cell_type": "code",
   "execution_count": 4,
   "metadata": {},
   "outputs": [],
   "source": [
    "env.postions[0][1] = ('a', 1)"
   ]
  },
  {
   "cell_type": "code",
   "execution_count": 5,
   "metadata": {},
   "outputs": [
    {
     "data": {
      "text/plain": [
       "array([0, ('a', 1), 0, 0, 0, 0, 0], dtype=object)"
      ]
     },
     "execution_count": 5,
     "metadata": {},
     "output_type": "execute_result"
    }
   ],
   "source": [
    "env.postions[0]"
   ]
  },
  {
   "cell_type": "code",
   "execution_count": 6,
   "metadata": {},
   "outputs": [
    {
     "data": {
      "text/plain": [
       "[{'curr_pos': 0,\n",
       "  'double_move': False,\n",
       "  'next_pos': ('a', 5),\n",
       "  'piece_id': (0, 0),\n",
       "  'replace_opp': False},\n",
       " {'curr_pos': ('a', 1),\n",
       "  'double_move': True,\n",
       "  'next_pos': ('b', 4),\n",
       "  'piece_id': (0, 1),\n",
       "  'replace_opp': False},\n",
       " {'curr_pos': 0,\n",
       "  'double_move': False,\n",
       "  'next_pos': ('a', 5),\n",
       "  'piece_id': (0, 2),\n",
       "  'replace_opp': False},\n",
       " {'curr_pos': 0,\n",
       "  'double_move': False,\n",
       "  'next_pos': ('a', 5),\n",
       "  'piece_id': (0, 3),\n",
       "  'replace_opp': False},\n",
       " {'curr_pos': 0,\n",
       "  'double_move': False,\n",
       "  'next_pos': ('a', 5),\n",
       "  'piece_id': (0, 4),\n",
       "  'replace_opp': False},\n",
       " {'curr_pos': 0,\n",
       "  'double_move': False,\n",
       "  'next_pos': ('a', 5),\n",
       "  'piece_id': (0, 5),\n",
       "  'replace_opp': False},\n",
       " {'curr_pos': 0,\n",
       "  'double_move': False,\n",
       "  'next_pos': ('a', 5),\n",
       "  'piece_id': (0, 6),\n",
       "  'replace_opp': False}]"
      ]
     },
     "execution_count": 6,
     "metadata": {},
     "output_type": "execute_result"
    }
   ],
   "source": [
    "env.get_possible_actions(0, 4)"
   ]
  },
  {
   "cell_type": "code",
   "execution_count": 7,
   "metadata": {},
   "outputs": [],
   "source": [
    "env.postions[1][1] = ('b', 4)"
   ]
  },
  {
   "cell_type": "code",
   "execution_count": 8,
   "metadata": {},
   "outputs": [
    {
     "data": {
      "text/plain": [
       "array([0, ('b', 4), 0, 0, 0, 0, 0], dtype=object)"
      ]
     },
     "execution_count": 8,
     "metadata": {},
     "output_type": "execute_result"
    }
   ],
   "source": [
    "env.postions[1]"
   ]
  },
  {
   "cell_type": "code",
   "execution_count": 9,
   "metadata": {},
   "outputs": [
    {
     "data": {
      "text/plain": [
       "[{'curr_pos': 0,\n",
       "  'double_move': False,\n",
       "  'next_pos': ('a', 5),\n",
       "  'piece_id': (0, 0),\n",
       "  'replace_opp': False},\n",
       " {'curr_pos': ('a', 1),\n",
       "  'double_move': False,\n",
       "  'next_pos': ('b', 5),\n",
       "  'piece_id': (0, 1),\n",
       "  'replace_opp': False},\n",
       " {'curr_pos': 0,\n",
       "  'double_move': False,\n",
       "  'next_pos': ('a', 5),\n",
       "  'piece_id': (0, 2),\n",
       "  'replace_opp': False},\n",
       " {'curr_pos': 0,\n",
       "  'double_move': False,\n",
       "  'next_pos': ('a', 5),\n",
       "  'piece_id': (0, 3),\n",
       "  'replace_opp': False},\n",
       " {'curr_pos': 0,\n",
       "  'double_move': False,\n",
       "  'next_pos': ('a', 5),\n",
       "  'piece_id': (0, 4),\n",
       "  'replace_opp': False},\n",
       " {'curr_pos': 0,\n",
       "  'double_move': False,\n",
       "  'next_pos': ('a', 5),\n",
       "  'piece_id': (0, 5),\n",
       "  'replace_opp': False},\n",
       " {'curr_pos': 0,\n",
       "  'double_move': False,\n",
       "  'next_pos': ('a', 5),\n",
       "  'piece_id': (0, 6),\n",
       "  'replace_opp': False}]"
      ]
     },
     "execution_count": 9,
     "metadata": {},
     "output_type": "execute_result"
    }
   ],
   "source": [
    "env.get_possible_actions(0, 4)"
   ]
  },
  {
   "cell_type": "code",
   "execution_count": 10,
   "metadata": {},
   "outputs": [],
   "source": [
    "env.postions[1][1] = ('b', 3)"
   ]
  },
  {
   "cell_type": "code",
   "execution_count": 11,
   "metadata": {},
   "outputs": [
    {
     "data": {
      "text/plain": [
       "array([0, ('b', 3), 0, 0, 0, 0, 0], dtype=object)"
      ]
     },
     "execution_count": 11,
     "metadata": {},
     "output_type": "execute_result"
    }
   ],
   "source": [
    "env.postions[1]"
   ]
  },
  {
   "cell_type": "code",
   "execution_count": 12,
   "metadata": {},
   "outputs": [
    {
     "data": {
      "text/plain": [
       "[{'curr_pos': 0,\n",
       "  'double_move': False,\n",
       "  'next_pos': ('a', 2),\n",
       "  'piece_id': (0, 0),\n",
       "  'replace_opp': False},\n",
       " {'curr_pos': ('a', 1),\n",
       "  'double_move': False,\n",
       "  'next_pos': ('b', 3),\n",
       "  'piece_id': (0, 1),\n",
       "  'replace_opp': True},\n",
       " {'curr_pos': 0,\n",
       "  'double_move': False,\n",
       "  'next_pos': ('a', 2),\n",
       "  'piece_id': (0, 2),\n",
       "  'replace_opp': False},\n",
       " {'curr_pos': 0,\n",
       "  'double_move': False,\n",
       "  'next_pos': ('a', 2),\n",
       "  'piece_id': (0, 3),\n",
       "  'replace_opp': False},\n",
       " {'curr_pos': 0,\n",
       "  'double_move': False,\n",
       "  'next_pos': ('a', 2),\n",
       "  'piece_id': (0, 4),\n",
       "  'replace_opp': False},\n",
       " {'curr_pos': 0,\n",
       "  'double_move': False,\n",
       "  'next_pos': ('a', 2),\n",
       "  'piece_id': (0, 5),\n",
       "  'replace_opp': False},\n",
       " {'curr_pos': 0,\n",
       "  'double_move': False,\n",
       "  'next_pos': ('a', 2),\n",
       "  'piece_id': (0, 6),\n",
       "  'replace_opp': False}]"
      ]
     },
     "execution_count": 12,
     "metadata": {},
     "output_type": "execute_result"
    }
   ],
   "source": [
    "env.get_possible_actions(0, 3)"
   ]
  },
  {
   "cell_type": "code",
   "execution_count": 13,
   "metadata": {},
   "outputs": [],
   "source": [
    "env.postions[0][1] = ('b', 8)"
   ]
  },
  {
   "cell_type": "code",
   "execution_count": 22,
   "metadata": {},
   "outputs": [
    {
     "data": {
      "text/plain": [
       "[{'curr_pos': 0,\n",
       "  'double_move': True,\n",
       "  'next_pos': ('a', 1),\n",
       "  'piece_id': (0, 0),\n",
       "  'replace_opp': False},\n",
       " {'curr_pos': ('b', 8),\n",
       "  'double_move': False,\n",
       "  'next_pos': ('b', 8),\n",
       "  'piece_id': (0, 1),\n",
       "  'replace_opp': False},\n",
       " {'curr_pos': 0,\n",
       "  'double_move': True,\n",
       "  'next_pos': ('a', 1),\n",
       "  'piece_id': (0, 2),\n",
       "  'replace_opp': False},\n",
       " {'curr_pos': 0,\n",
       "  'double_move': True,\n",
       "  'next_pos': ('a', 1),\n",
       "  'piece_id': (0, 3),\n",
       "  'replace_opp': False},\n",
       " {'curr_pos': 0,\n",
       "  'double_move': True,\n",
       "  'next_pos': ('a', 1),\n",
       "  'piece_id': (0, 4),\n",
       "  'replace_opp': False},\n",
       " {'curr_pos': 0,\n",
       "  'double_move': True,\n",
       "  'next_pos': ('a', 1),\n",
       "  'piece_id': (0, 5),\n",
       "  'replace_opp': False},\n",
       " {'curr_pos': 0,\n",
       "  'double_move': True,\n",
       "  'next_pos': ('a', 1),\n",
       "  'piece_id': (0, 6),\n",
       "  'replace_opp': False}]"
      ]
     },
     "execution_count": 22,
     "metadata": {},
     "output_type": "execute_result"
    }
   ],
   "source": [
    "env.get_possible_actions(0, 4)"
   ]
  },
  {
   "cell_type": "code",
   "execution_count": null,
   "metadata": {},
   "outputs": [],
   "source": []
  }
 ],
 "metadata": {
  "kernelspec": {
   "display_name": "Python 3",
   "language": "python",
   "name": "python3"
  },
  "language_info": {
   "codemirror_mode": {
    "name": "ipython",
    "version": 3
   },
   "file_extension": ".py",
   "mimetype": "text/x-python",
   "name": "python",
   "nbconvert_exporter": "python",
   "pygments_lexer": "ipython3",
   "version": "3.6.3"
  }
 },
 "nbformat": 4,
 "nbformat_minor": 2
}
