{
 "cells": [
  {
   "cell_type": "code",
   "execution_count": 1,
   "metadata": {},
   "outputs": [],
   "source": [
    "from gym_ur.game_of_ur import GoUrEnv\n",
    "import numpy as np\n",
    "import matplotlib.pyplot as plt\n",
    "from collections import defaultdict\n",
    "\n",
    "plt.style.use('ggplot')"
   ]
  },
  {
   "cell_type": "code",
   "execution_count": 9,
   "metadata": {},
   "outputs": [],
   "source": [
    "env = GoUrEnv()"
   ]
  },
  {
   "cell_type": "code",
   "execution_count": 16,
   "metadata": {
    "scrolled": true
   },
   "outputs": [
    {
     "data": {
      "text/plain": [
       "([{'curr_pos': ('b', 4),\n",
       "   'double_move': False,\n",
       "   'next_pos': ['b', 7],\n",
       "   'piece_id': [1, 0],\n",
       "   'replace_opp': False},\n",
       "  {'curr_pos': ['c', 5],\n",
       "   'double_move': False,\n",
       "   'next_pos': ['c', 2],\n",
       "   'piece_id': [1, 1],\n",
       "   'replace_opp': False},\n",
       "  {'curr_pos': ['c', 5],\n",
       "   'double_move': False,\n",
       "   'next_pos': ['c', 2],\n",
       "   'piece_id': [1, 2],\n",
       "   'replace_opp': False},\n",
       "  {'curr_pos': ['c', 5],\n",
       "   'double_move': False,\n",
       "   'next_pos': ['c', 2],\n",
       "   'piece_id': [1, 3],\n",
       "   'replace_opp': False},\n",
       "  {'curr_pos': ['c', 5],\n",
       "   'double_move': False,\n",
       "   'next_pos': ['c', 2],\n",
       "   'piece_id': [1, 4],\n",
       "   'replace_opp': False},\n",
       "  {'curr_pos': ['c', 5],\n",
       "   'double_move': False,\n",
       "   'next_pos': ['c', 2],\n",
       "   'piece_id': [1, 5],\n",
       "   'replace_opp': False},\n",
       "  {'curr_pos': ['c', 5],\n",
       "   'double_move': False,\n",
       "   'next_pos': ['c', 2],\n",
       "   'piece_id': [1, 6],\n",
       "   'replace_opp': False}],\n",
       " [0, 1, 2, 3, 4, 5, 6])"
      ]
     },
     "execution_count": 16,
     "metadata": {},
     "output_type": "execute_result"
    }
   ],
   "source": [
    "env.get_possible_actions(1, 3)\n"
   ]
  },
  {
   "cell_type": "code",
   "execution_count": 17,
   "metadata": {
    "scrolled": true
   },
   "outputs": [
    {
     "data": {
      "text/plain": [
       "([{'curr_pos': ('b', 4),\n",
       "   'double_move': False,\n",
       "   'next_pos': ['b', 7],\n",
       "   'piece_id': [1, 0],\n",
       "   'replace_opp': False},\n",
       "  {'curr_pos': ['c', 5],\n",
       "   'double_move': False,\n",
       "   'next_pos': ['c', 2],\n",
       "   'piece_id': [1, 1],\n",
       "   'replace_opp': False},\n",
       "  {'curr_pos': ['c', 5],\n",
       "   'double_move': False,\n",
       "   'next_pos': ['c', 2],\n",
       "   'piece_id': [1, 2],\n",
       "   'replace_opp': False},\n",
       "  {'curr_pos': ['c', 5],\n",
       "   'double_move': False,\n",
       "   'next_pos': ['c', 2],\n",
       "   'piece_id': [1, 3],\n",
       "   'replace_opp': False},\n",
       "  {'curr_pos': ['c', 5],\n",
       "   'double_move': False,\n",
       "   'next_pos': ['c', 2],\n",
       "   'piece_id': [1, 4],\n",
       "   'replace_opp': False},\n",
       "  {'curr_pos': ['c', 5],\n",
       "   'double_move': False,\n",
       "   'next_pos': ['c', 2],\n",
       "   'piece_id': [1, 5],\n",
       "   'replace_opp': False},\n",
       "  {'curr_pos': ['c', 5],\n",
       "   'double_move': False,\n",
       "   'next_pos': ['c', 2],\n",
       "   'piece_id': [1, 6],\n",
       "   'replace_opp': False}],\n",
       " [0, 1, 2, 3, 4, 5, 6])"
      ]
     },
     "execution_count": 17,
     "metadata": {},
     "output_type": "execute_result"
    }
   ],
   "source": [
    "env.get_possible_actions(1, 3)"
   ]
  },
  {
   "cell_type": "code",
   "execution_count": 18,
   "metadata": {},
   "outputs": [],
   "source": [
    "env.postions[1][0] = ['b', 4]\n",
    "env.postions[0][0] = ['a', 6]"
   ]
  },
  {
   "cell_type": "code",
   "execution_count": 19,
   "metadata": {},
   "outputs": [
    {
     "data": {
      "text/plain": [
       "array([list(['a', 6]), list(['a', 5]), list(['a', 5]), list(['a', 5]),\n",
       "       list(['a', 5]), list(['a', 5]), list(['a', 5])], dtype=object)"
      ]
     },
     "execution_count": 19,
     "metadata": {},
     "output_type": "execute_result"
    }
   ],
   "source": [
    "env.postions[0]"
   ]
  },
  {
   "cell_type": "code",
   "execution_count": 20,
   "metadata": {},
   "outputs": [
    {
     "data": {
      "text/plain": [
       "([{'curr_pos': ['a', 5],\n",
       "   'double_move': False,\n",
       "   'next_pos': ['a', 2],\n",
       "   'piece_id': [0, 1],\n",
       "   'replace_opp': False},\n",
       "  {'curr_pos': ['a', 5],\n",
       "   'double_move': False,\n",
       "   'next_pos': ['a', 2],\n",
       "   'piece_id': [0, 2],\n",
       "   'replace_opp': False},\n",
       "  {'curr_pos': ['a', 5],\n",
       "   'double_move': False,\n",
       "   'next_pos': ['a', 2],\n",
       "   'piece_id': [0, 3],\n",
       "   'replace_opp': False},\n",
       "  {'curr_pos': ['a', 5],\n",
       "   'double_move': False,\n",
       "   'next_pos': ['a', 2],\n",
       "   'piece_id': [0, 4],\n",
       "   'replace_opp': False},\n",
       "  {'curr_pos': ['a', 5],\n",
       "   'double_move': False,\n",
       "   'next_pos': ['a', 2],\n",
       "   'piece_id': [0, 5],\n",
       "   'replace_opp': False},\n",
       "  {'curr_pos': ['a', 5],\n",
       "   'double_move': False,\n",
       "   'next_pos': ['a', 2],\n",
       "   'piece_id': [0, 6],\n",
       "   'replace_opp': False}],\n",
       " [1, 2, 3, 4, 5, 6])"
      ]
     },
     "execution_count": 20,
     "metadata": {},
     "output_type": "execute_result"
    }
   ],
   "source": [
    "env.get_possible_actions(0, 3)"
   ]
  },
  {
   "cell_type": "code",
   "execution_count": 21,
   "metadata": {},
   "outputs": [],
   "source": [
    "env.postions[1][1] = ['b', 4]"
   ]
  },
  {
   "cell_type": "code",
   "execution_count": 22,
   "metadata": {},
   "outputs": [
    {
     "data": {
      "text/plain": [
       "array([list(['b', 4]), list(['b', 4]), list(['c', 5]), list(['c', 5]),\n",
       "       list(['c', 5]), list(['c', 5]), list(['c', 5])], dtype=object)"
      ]
     },
     "execution_count": 22,
     "metadata": {},
     "output_type": "execute_result"
    }
   ],
   "source": [
    "env.postions[1]"
   ]
  },
  {
   "cell_type": "code",
   "execution_count": 23,
   "metadata": {},
   "outputs": [
    {
     "data": {
      "text/plain": [
       "([{'curr_pos': ['a', 5],\n",
       "   'double_move': True,\n",
       "   'next_pos': ['a', 1],\n",
       "   'piece_id': [0, 1],\n",
       "   'replace_opp': False},\n",
       "  {'curr_pos': ['a', 5],\n",
       "   'double_move': True,\n",
       "   'next_pos': ['a', 1],\n",
       "   'piece_id': [0, 2],\n",
       "   'replace_opp': False},\n",
       "  {'curr_pos': ['a', 5],\n",
       "   'double_move': True,\n",
       "   'next_pos': ['a', 1],\n",
       "   'piece_id': [0, 3],\n",
       "   'replace_opp': False},\n",
       "  {'curr_pos': ['a', 5],\n",
       "   'double_move': True,\n",
       "   'next_pos': ['a', 1],\n",
       "   'piece_id': [0, 4],\n",
       "   'replace_opp': False},\n",
       "  {'curr_pos': ['a', 5],\n",
       "   'double_move': True,\n",
       "   'next_pos': ['a', 1],\n",
       "   'piece_id': [0, 5],\n",
       "   'replace_opp': False},\n",
       "  {'curr_pos': ['a', 5],\n",
       "   'double_move': True,\n",
       "   'next_pos': ['a', 1],\n",
       "   'piece_id': [0, 6],\n",
       "   'replace_opp': False}],\n",
       " [1, 2, 3, 4, 5, 6])"
      ]
     },
     "execution_count": 23,
     "metadata": {},
     "output_type": "execute_result"
    }
   ],
   "source": [
    "env.get_possible_actions(0, 4)"
   ]
  },
  {
   "cell_type": "code",
   "execution_count": 25,
   "metadata": {},
   "outputs": [],
   "source": [
    "env.postions[1][1] = ['b', 3]"
   ]
  },
  {
   "cell_type": "code",
   "execution_count": 26,
   "metadata": {},
   "outputs": [
    {
     "data": {
      "text/plain": [
       "array([list(['b', 4]), list(['b', 3]), list(['c', 5]), list(['c', 5]),\n",
       "       list(['c', 5]), list(['c', 5]), list(['c', 5])], dtype=object)"
      ]
     },
     "execution_count": 26,
     "metadata": {},
     "output_type": "execute_result"
    }
   ],
   "source": [
    "env.postions[1]"
   ]
  },
  {
   "cell_type": "code",
   "execution_count": 27,
   "metadata": {},
   "outputs": [
    {
     "data": {
      "text/plain": [
       "([{'curr_pos': ['a', 5],\n",
       "   'double_move': False,\n",
       "   'next_pos': ['a', 2],\n",
       "   'piece_id': [0, 1],\n",
       "   'replace_opp': False},\n",
       "  {'curr_pos': ['a', 5],\n",
       "   'double_move': False,\n",
       "   'next_pos': ['a', 2],\n",
       "   'piece_id': [0, 2],\n",
       "   'replace_opp': False},\n",
       "  {'curr_pos': ['a', 5],\n",
       "   'double_move': False,\n",
       "   'next_pos': ['a', 2],\n",
       "   'piece_id': [0, 3],\n",
       "   'replace_opp': False},\n",
       "  {'curr_pos': ['a', 5],\n",
       "   'double_move': False,\n",
       "   'next_pos': ['a', 2],\n",
       "   'piece_id': [0, 4],\n",
       "   'replace_opp': False},\n",
       "  {'curr_pos': ['a', 5],\n",
       "   'double_move': False,\n",
       "   'next_pos': ['a', 2],\n",
       "   'piece_id': [0, 5],\n",
       "   'replace_opp': False},\n",
       "  {'curr_pos': ['a', 5],\n",
       "   'double_move': False,\n",
       "   'next_pos': ['a', 2],\n",
       "   'piece_id': [0, 6],\n",
       "   'replace_opp': False}],\n",
       " [1, 2, 3, 4, 5, 6])"
      ]
     },
     "execution_count": 27,
     "metadata": {},
     "output_type": "execute_result"
    }
   ],
   "source": [
    "env.get_possible_actions(0, 3)"
   ]
  },
  {
   "cell_type": "code",
   "execution_count": 28,
   "metadata": {},
   "outputs": [],
   "source": [
    "env.postions[0][1] = ['b', 8]"
   ]
  },
  {
   "cell_type": "code",
   "execution_count": 29,
   "metadata": {},
   "outputs": [
    {
     "data": {
      "text/plain": [
       "([{'curr_pos': ['a', 5],\n",
       "   'double_move': True,\n",
       "   'next_pos': ['a', 1],\n",
       "   'piece_id': [0, 2],\n",
       "   'replace_opp': False},\n",
       "  {'curr_pos': ['a', 5],\n",
       "   'double_move': True,\n",
       "   'next_pos': ['a', 1],\n",
       "   'piece_id': [0, 3],\n",
       "   'replace_opp': False},\n",
       "  {'curr_pos': ['a', 5],\n",
       "   'double_move': True,\n",
       "   'next_pos': ['a', 1],\n",
       "   'piece_id': [0, 4],\n",
       "   'replace_opp': False},\n",
       "  {'curr_pos': ['a', 5],\n",
       "   'double_move': True,\n",
       "   'next_pos': ['a', 1],\n",
       "   'piece_id': [0, 5],\n",
       "   'replace_opp': False},\n",
       "  {'curr_pos': ['a', 5],\n",
       "   'double_move': True,\n",
       "   'next_pos': ['a', 1],\n",
       "   'piece_id': [0, 6],\n",
       "   'replace_opp': False}],\n",
       " [2, 3, 4, 5, 6])"
      ]
     },
     "execution_count": 29,
     "metadata": {},
     "output_type": "execute_result"
    }
   ],
   "source": [
    "env.get_possible_actions(0, 4)"
   ]
  },
  {
   "cell_type": "code",
   "execution_count": 30,
   "metadata": {},
   "outputs": [],
   "source": [
    "ht = {}\n",
    "ht[((('a', 5)), (('c', 5)))] = 1"
   ]
  },
  {
   "cell_type": "code",
   "execution_count": null,
   "metadata": {},
   "outputs": [],
   "source": []
  }
 ],
 "metadata": {
  "kernelspec": {
   "display_name": "Python 3",
   "language": "python",
   "name": "python3"
  },
  "language_info": {
   "codemirror_mode": {
    "name": "ipython",
    "version": 3
   },
   "file_extension": ".py",
   "mimetype": "text/x-python",
   "name": "python",
   "nbconvert_exporter": "python",
   "pygments_lexer": "ipython3",
   "version": "3.6.3"
  }
 },
 "nbformat": 4,
 "nbformat_minor": 2
}
